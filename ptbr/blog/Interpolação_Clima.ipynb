{
  "cells": [
    {
      "cell_type": "markdown",
      "metadata": {
        "id": "HTM14pd6tPsp"
      },
      "source": [
        "# Krigagem de temperatura, umidade e preciptação para todos os municípios de Minas Gerais no período de 2016 a 2018"
      ]
    },
    {
      "cell_type": "markdown",
      "source": [
        "Sofia Moreira de Aguiar | https://github.com/SofAguiar | sof.m.aguiar@gmail.com"
      ],
      "metadata": {
        "id": "nUyr9sXUY77o"
      }
    },
    {
      "cell_type": "markdown",
      "metadata": {
        "id": "ByYZ1C7xy_Ce"
      },
      "source": [
        "Fonte de dados:\n",
        "  - https://www.ibge.gov.br/geociencias/organizacao-do-territorio/malhas-territoriais/15774-malhas.html\n",
        "  - https://portal.inmet.gov.br/paginas/catalogoaut\n",
        "  - https://portal.inmet.gov.br/dadoshistoricos"
      ]
    },
    {
      "cell_type": "markdown",
      "source": [
        "### Setup do ambiente"
      ],
      "metadata": {
        "id": "roGHBExTZdyq"
      }
    },
    {
      "cell_type": "code",
      "execution_count": null,
      "metadata": {
        "colab": {
          "base_uri": "https://localhost:8080/"
        },
        "id": "1zrxJ8zvrzz3",
        "outputId": "7c121196-f9c1-4fbc-8e7a-3a86f3401886"
      },
      "outputs": [
        {
          "output_type": "stream",
          "name": "stdout",
          "text": [
            "Requirement already satisfied: pykrige in /usr/local/lib/python3.11/dist-packages (1.7.2)\n",
            "Requirement already satisfied: numpy>=1.20.0 in /usr/local/lib/python3.11/dist-packages (from pykrige) (1.26.4)\n",
            "Requirement already satisfied: scipy<2,>=1.1.0 in /usr/local/lib/python3.11/dist-packages (from pykrige) (1.13.1)\n"
          ]
        }
      ],
      "source": [
        "!pip install pykrige"
      ]
    },
    {
      "cell_type": "code",
      "execution_count": null,
      "metadata": {
        "id": "YJuy_M6ygM38"
      },
      "outputs": [],
      "source": [
        "import pandas as pd\n",
        "import numpy as np\n",
        "import geopandas as gpd\n",
        "from pykrige.ok import OrdinaryKriging\n",
        "import os"
      ]
    },
    {
      "cell_type": "markdown",
      "source": [
        "### Upload e tratamento das bases"
      ],
      "metadata": {
        "id": "uZ1oSxJrbyGk"
      }
    },
    {
      "cell_type": "code",
      "execution_count": null,
      "metadata": {
        "colab": {
          "base_uri": "https://localhost:8080/"
        },
        "id": "nB5ir6j4g6W6",
        "outputId": "7d2baa19-8d1a-4d3a-fb50-29cff3d7d51c"
      },
      "outputs": [
        {
          "output_type": "stream",
          "name": "stdout",
          "text": [
            "--2025-02-19 01:04:02--  https://geoftp.ibge.gov.br/organizacao_do_territorio/malhas_territoriais/malhas_municipais/municipio_2022/UFs/MG/MG_Municipios_2022.zip\n",
            "Resolving geoftp.ibge.gov.br (geoftp.ibge.gov.br)... 191.233.136.86\n",
            "Connecting to geoftp.ibge.gov.br (geoftp.ibge.gov.br)|191.233.136.86|:443... connected.\n",
            "HTTP request sent, awaiting response... 200 OK\n",
            "Length: 33017561 (31M) [application/zip]\n",
            "Saving to: ‘MG_Municipios_2023.zip’\n",
            "\n",
            "MG_Municipios_2023. 100%[===================>]  31.49M  12.7MB/s    in 2.5s    \n",
            "\n",
            "2025-02-19 01:04:06 (12.7 MB/s) - ‘MG_Municipios_2023.zip’ saved [33017561/33017561]\n",
            "\n"
          ]
        }
      ],
      "source": [
        "# Utilizando a malha de municipios mais recente do IBGE para minas\n",
        "url_malha = \"https://geoftp.ibge.gov.br/organizacao_do_territorio/malhas_territoriais/malhas_municipais/municipio_2022/UFs/MG/MG_Municipios_2022.zip\"\n",
        "\n",
        "!wget -O MG_Municipios_2023.zip $url_malha"
      ]
    },
    {
      "cell_type": "code",
      "execution_count": null,
      "metadata": {
        "colab": {
          "base_uri": "https://localhost:8080/"
        },
        "id": "wAntQpTbo919",
        "outputId": "92facb15-ffa2-47de-848f-bf3b5f634234"
      },
      "outputs": [
        {
          "output_type": "stream",
          "name": "stdout",
          "text": [
            "Archive:  MG_Municipios_2023.zip\n",
            " extracting: MG_Municipios_2023/MG_Municipios_2022.cpg  \n",
            "  inflating: MG_Municipios_2023/MG_Municipios_2022.dbf  \n",
            "  inflating: MG_Municipios_2023/MG_Municipios_2022.prj  \n",
            "  inflating: MG_Municipios_2023/MG_Municipios_2022.shp  \n",
            "  inflating: MG_Municipios_2023/MG_Municipios_2022.shx  \n"
          ]
        }
      ],
      "source": [
        "!unzip MG_Municipios_2023.zip -d \"MG_Municipios_2023\" # Descompactando a pasta com a malha municipal"
      ]
    },
    {
      "cell_type": "code",
      "execution_count": null,
      "metadata": {
        "id": "M66J9DUswZf5"
      },
      "outputs": [],
      "source": [
        "# Lendo shapefile\n",
        "municipios = gpd.read_file('MG_Municipios_2023/MG_Municipios_2023.shp')"
      ]
    },
    {
      "cell_type": "code",
      "source": [
        "# Utilizando os dados das estações previamente tratados\n",
        "url_estacoes = \"https://github.com/SofAguiar/krigagem_clima/raw/main/estacoes_mg.zip\"\n",
        "\n",
        "!wget -O estacoes_mg.zip $url_estacoes"
      ],
      "metadata": {
        "colab": {
          "base_uri": "https://localhost:8080/"
        },
        "id": "GQks73j5uedP",
        "outputId": "7538aea2-719c-43bb-e19d-58f3c2ae67bb"
      },
      "execution_count": null,
      "outputs": [
        {
          "output_type": "stream",
          "name": "stdout",
          "text": [
            "--2025-02-19 01:11:20--  https://github.com/SofAguiar/krigagem_clima/raw/main/estacoes_mg.zip\n",
            "Resolving github.com (github.com)... 140.82.112.3\n",
            "Connecting to github.com (github.com)|140.82.112.3|:443... connected.\n",
            "HTTP request sent, awaiting response... 302 Found\n",
            "Location: https://raw.githubusercontent.com/SofAguiar/krigagem_clima/main/estacoes_mg.zip [following]\n",
            "--2025-02-19 01:11:21--  https://raw.githubusercontent.com/SofAguiar/krigagem_clima/main/estacoes_mg.zip\n",
            "Resolving raw.githubusercontent.com (raw.githubusercontent.com)... 185.199.108.133, 185.199.109.133, 185.199.110.133, ...\n",
            "Connecting to raw.githubusercontent.com (raw.githubusercontent.com)|185.199.108.133|:443... connected.\n",
            "HTTP request sent, awaiting response... 200 OK\n",
            "Length: 1509045 (1.4M) [application/zip]\n",
            "Saving to: ‘estacoes_mg.zip’\n",
            "\n",
            "estacoes_mg.zip     100%[===================>]   1.44M  --.-KB/s    in 0.07s   \n",
            "\n",
            "2025-02-19 01:11:21 (20.5 MB/s) - ‘estacoes_mg.zip’ saved [1509045/1509045]\n",
            "\n"
          ]
        }
      ]
    },
    {
      "cell_type": "code",
      "source": [
        "!unzip estacoes_mg.zip -d \"estacoes_mg\" # Descompactando a pasta com os dados das estações"
      ],
      "metadata": {
        "colab": {
          "base_uri": "https://localhost:8080/"
        },
        "id": "9iCzVofavPsH",
        "outputId": "a8bc048d-6344-4d41-fff9-23ca4fbbddcb"
      },
      "execution_count": null,
      "outputs": [
        {
          "output_type": "stream",
          "name": "stdout",
          "text": [
            "Archive:  estacoes_mg.zip\n",
            "  inflating: estacoes_mg/estacoes_mg.csv  \n"
          ]
        }
      ]
    },
    {
      "cell_type": "code",
      "source": [
        "df_estacoes = pd.read_csv(\"estacoes_mg/estacoes_mg.csv\")"
      ],
      "metadata": {
        "id": "SGo9ID3pvZly"
      },
      "execution_count": null,
      "outputs": []
    },
    {
      "cell_type": "code",
      "execution_count": null,
      "metadata": {
        "id": "CSkPNueghuzh"
      },
      "outputs": [],
      "source": [
        "# Convertendo as colunas de data e variáveis para os tipos adequados\n",
        "df_estacoes['Data'] = pd.to_datetime(df_estacoes['Data'], errors='coerce')\n",
        "df_estacoes['temperatura_media'] = pd.to_numeric(df_estacoes['temperatura_media'], errors='coerce')\n",
        "df_estacoes['preciptacao'] = pd.to_numeric(df_estacoes['preciptacao'], errors='coerce')\n",
        "df_estacoes['umidade_media'] = pd.to_numeric(df_estacoes['umidade_media'], errors='coerce')\n",
        "df_estacoes['VL_LATITUDE'] = pd.to_numeric(df_estacoes['VL_LATITUDE'], errors='coerce')\n",
        "df_estacoes['VL_LONGITUDE'] = pd.to_numeric(df_estacoes['VL_LONGITUDE'], errors='coerce')\n"
      ]
    },
    {
      "cell_type": "code",
      "execution_count": null,
      "metadata": {
        "colab": {
          "base_uri": "https://localhost:8080/"
        },
        "id": "RQ8sY3lBv0KD",
        "outputId": "92fae914-d56f-44f1-9c0d-19ac1215e8ac"
      },
      "outputs": [
        {
          "output_type": "stream",
          "name": "stderr",
          "text": [
            "<ipython-input-46-d9cc5e62cc22>:5: UserWarning: Geometry is in a geographic CRS. Results from 'centroid' are likely incorrect. Use 'GeoSeries.to_crs()' to re-project geometries to a projected CRS before this operation.\n",
            "\n",
            "  municipios['centroide'] = municipios.geometry.centroid\n"
          ]
        }
      ],
      "source": [
        "# Garantindo que o CRS seja WGS84 (EPSG:4326)\n",
        "municipios = municipios.to_crs(epsg=4326)\n",
        "\n",
        "# Calculando os centróides dos municípios para usá-los como pontos de interpolação\n",
        "municipios['centroide'] = municipios.geometry.centroid\n",
        "municipios['lon'] = municipios['centroide'].x\n",
        "municipios['lat'] = municipios['centroide'].y"
      ]
    },
    {
      "cell_type": "markdown",
      "source": [
        "### Processo de krigagem"
      ],
      "metadata": {
        "id": "454DkXcOgBHR"
      }
    },
    {
      "cell_type": "code",
      "source": [
        "datas = np.sort(df_estacoes['Data'].dropna().unique())\n",
        "\n",
        "# Lista para armazenar os resultados\n",
        "resultados_lista = []\n",
        "\n",
        "for data in datas:\n",
        "    # Filtrar os dados do dia\n",
        "    df_dia = df_estacoes[df_estacoes['Data'] == data]\n",
        "\n",
        "    # -----------------------------\n",
        "    # Krigagem para Temperatura Média\n",
        "    # -----------------------------\n",
        "    df_temp = df_dia.dropna(subset=['temperatura_media', 'VL_LATITUDE', 'VL_LONGITUDE'])\n",
        "    if len(df_temp) >= 3:\n",
        "        x_temp = df_temp['VL_LONGITUDE'].values\n",
        "        y_temp = df_temp['VL_LATITUDE'].values\n",
        "        z_temp = df_temp['temperatura_media'].values\n",
        "        try:\n",
        "            OK_temp = OrdinaryKriging(\n",
        "                x_temp, y_temp, z_temp,\n",
        "                variogram_model='spherical',\n",
        "                verbose=False,\n",
        "                enable_plotting=False\n",
        "            )\n",
        "            z_temp_kriged, ss_temp = OK_temp.execute('points', municipios['lon'].values, municipios['lat'].values)\n",
        "        except Exception as e:\n",
        "            print(f\"Erro na krigagem de temperatura em {data.date()}: {e}\")\n",
        "            z_temp_kriged = np.full(len(municipios), np.nan)\n",
        "    else:\n",
        "        z_temp_kriged = np.full(len(municipios), np.nan)\n",
        "\n",
        "    # -----------------------------\n",
        "    # Krigagem para Precipitação\n",
        "    # -----------------------------\n",
        "    df_prec = df_dia.dropna(subset=['preciptacao', 'VL_LATITUDE', 'VL_LONGITUDE'])\n",
        "    if len(df_prec) >= 3:\n",
        "        x_prec = df_prec['VL_LONGITUDE'].values\n",
        "        y_prec = df_prec['VL_LATITUDE'].values\n",
        "        z_prec = df_prec['preciptacao'].values\n",
        "        try:\n",
        "            # Se os valores forem constantes (sem variação), atribua o valor constante a todos os municípios\n",
        "            if np.ptp(z_prec) == 0:\n",
        "                z_prec_kriged = np.full(len(municipios), z_prec[0])\n",
        "            else:\n",
        "                OK_prec = OrdinaryKriging(\n",
        "                    x_prec, y_prec, z_prec,\n",
        "                    variogram_model='spherical',\n",
        "                    verbose=False,\n",
        "                    enable_plotting=False\n",
        "                )\n",
        "                z_prec_kriged, ss_prec = OK_prec.execute('points', municipios['lon'].values, municipios['lat'].values)\n",
        "        except Exception as e:\n",
        "            print(f\"Erro na krigagem de precipitação em {pd.Timestamp(data).date()}: {e}\")\n",
        "            z_prec_kriged = np.full(len(municipios), np.nan)\n",
        "    else:\n",
        "        z_prec_kriged = np.full(len(municipios), np.nan)\n",
        "\n",
        "    # -----------------------------\n",
        "    # Krigagem para Umidade Média\n",
        "    # -----------------------------\n",
        "    df_umid = df_dia.dropna(subset=['umidade_media', 'VL_LATITUDE', 'VL_LONGITUDE'])\n",
        "    if len(df_umid) >= 3:\n",
        "        x_umid = df_umid['VL_LONGITUDE'].values\n",
        "        y_umid = df_umid['VL_LATITUDE'].values\n",
        "        z_umid = df_umid['umidade_media'].values\n",
        "        try:\n",
        "            OK_umid = OrdinaryKriging(\n",
        "                x_umid, y_umid, z_umid,\n",
        "                variogram_model='spherical',\n",
        "                verbose=False,\n",
        "                enable_plotting=False\n",
        "            )\n",
        "            z_umid_kriged, ss_umid = OK_umid.execute('points', municipios['lon'].values, municipios['lat'].values)\n",
        "        except Exception as e:\n",
        "            print(f\"Erro na krigagem de umidade em {data.date()}: {e}\")\n",
        "            z_umid_kriged = np.full(len(municipios), np.nan)\n",
        "    else:\n",
        "        z_umid_kriged = np.full(len(municipios), np.nan)\n",
        "\n",
        "    # -----------------------------\n",
        "    # 5. Criar um DataFrame com os resultados do dia\n",
        "    # -----------------------------\n",
        "    df_resultado_dia = pd.DataFrame({\n",
        "        'Data': data,\n",
        "        'Municipio': municipios['CD_MUN'],\n",
        "        'Temperatura_Media': z_temp_kriged,\n",
        "        'Precipitacao': z_prec_kriged,\n",
        "        'Umidade_Media': z_umid_kriged\n",
        "    })\n",
        "\n",
        "    resultados_lista.append(df_resultado_dia)\n",
        "\n",
        "final_df = pd.concat(resultados_lista, ignore_index=True)"
      ],
      "metadata": {
        "id": "itaGpfYQgErF"
      },
      "execution_count": null,
      "outputs": []
    },
    {
      "cell_type": "markdown",
      "source": [
        "### Verificação"
      ],
      "metadata": {
        "id": "1Fp_nsmBgeHB"
      }
    },
    {
      "cell_type": "code",
      "source": [
        "final_df.head()"
      ],
      "metadata": {
        "colab": {
          "base_uri": "https://localhost:8080/",
          "height": 206
        },
        "id": "KWPCzvp1ghQh",
        "outputId": "7c815ad4-8352-40a9-a9c0-d676f6672dfd"
      },
      "execution_count": null,
      "outputs": [
        {
          "output_type": "execute_result",
          "data": {
            "text/plain": [
              "        Data Municipio  Temperatura_Media  Precipitacao  Umidade_Media\n",
              "0 2016-01-01   3100104          24.814255      2.332133      71.214895\n",
              "1 2016-01-01   3100203          26.327830     -0.439036      63.004710\n",
              "2 2016-01-01   3100302          25.058005      1.346237      69.315929\n",
              "3 2016-01-01   3100401          24.156653      4.334769      74.274005\n",
              "4 2016-01-01   3100500          27.890152     -0.146384      62.068986"
            ],
            "text/html": [
              "\n",
              "  <div id=\"df-37647a41-ee53-4c89-b1e7-e1a5141e2270\" class=\"colab-df-container\">\n",
              "    <div>\n",
              "<style scoped>\n",
              "    .dataframe tbody tr th:only-of-type {\n",
              "        vertical-align: middle;\n",
              "    }\n",
              "\n",
              "    .dataframe tbody tr th {\n",
              "        vertical-align: top;\n",
              "    }\n",
              "\n",
              "    .dataframe thead th {\n",
              "        text-align: right;\n",
              "    }\n",
              "</style>\n",
              "<table border=\"1\" class=\"dataframe\">\n",
              "  <thead>\n",
              "    <tr style=\"text-align: right;\">\n",
              "      <th></th>\n",
              "      <th>Data</th>\n",
              "      <th>Municipio</th>\n",
              "      <th>Temperatura_Media</th>\n",
              "      <th>Precipitacao</th>\n",
              "      <th>Umidade_Media</th>\n",
              "    </tr>\n",
              "  </thead>\n",
              "  <tbody>\n",
              "    <tr>\n",
              "      <th>0</th>\n",
              "      <td>2016-01-01</td>\n",
              "      <td>3100104</td>\n",
              "      <td>24.814255</td>\n",
              "      <td>2.332133</td>\n",
              "      <td>71.214895</td>\n",
              "    </tr>\n",
              "    <tr>\n",
              "      <th>1</th>\n",
              "      <td>2016-01-01</td>\n",
              "      <td>3100203</td>\n",
              "      <td>26.327830</td>\n",
              "      <td>-0.439036</td>\n",
              "      <td>63.004710</td>\n",
              "    </tr>\n",
              "    <tr>\n",
              "      <th>2</th>\n",
              "      <td>2016-01-01</td>\n",
              "      <td>3100302</td>\n",
              "      <td>25.058005</td>\n",
              "      <td>1.346237</td>\n",
              "      <td>69.315929</td>\n",
              "    </tr>\n",
              "    <tr>\n",
              "      <th>3</th>\n",
              "      <td>2016-01-01</td>\n",
              "      <td>3100401</td>\n",
              "      <td>24.156653</td>\n",
              "      <td>4.334769</td>\n",
              "      <td>74.274005</td>\n",
              "    </tr>\n",
              "    <tr>\n",
              "      <th>4</th>\n",
              "      <td>2016-01-01</td>\n",
              "      <td>3100500</td>\n",
              "      <td>27.890152</td>\n",
              "      <td>-0.146384</td>\n",
              "      <td>62.068986</td>\n",
              "    </tr>\n",
              "  </tbody>\n",
              "</table>\n",
              "</div>\n",
              "    <div class=\"colab-df-buttons\">\n",
              "\n",
              "  <div class=\"colab-df-container\">\n",
              "    <button class=\"colab-df-convert\" onclick=\"convertToInteractive('df-37647a41-ee53-4c89-b1e7-e1a5141e2270')\"\n",
              "            title=\"Convert this dataframe to an interactive table.\"\n",
              "            style=\"display:none;\">\n",
              "\n",
              "  <svg xmlns=\"http://www.w3.org/2000/svg\" height=\"24px\" viewBox=\"0 -960 960 960\">\n",
              "    <path d=\"M120-120v-720h720v720H120Zm60-500h600v-160H180v160Zm220 220h160v-160H400v160Zm0 220h160v-160H400v160ZM180-400h160v-160H180v160Zm440 0h160v-160H620v160ZM180-180h160v-160H180v160Zm440 0h160v-160H620v160Z\"/>\n",
              "  </svg>\n",
              "    </button>\n",
              "\n",
              "  <style>\n",
              "    .colab-df-container {\n",
              "      display:flex;\n",
              "      gap: 12px;\n",
              "    }\n",
              "\n",
              "    .colab-df-convert {\n",
              "      background-color: #E8F0FE;\n",
              "      border: none;\n",
              "      border-radius: 50%;\n",
              "      cursor: pointer;\n",
              "      display: none;\n",
              "      fill: #1967D2;\n",
              "      height: 32px;\n",
              "      padding: 0 0 0 0;\n",
              "      width: 32px;\n",
              "    }\n",
              "\n",
              "    .colab-df-convert:hover {\n",
              "      background-color: #E2EBFA;\n",
              "      box-shadow: 0px 1px 2px rgba(60, 64, 67, 0.3), 0px 1px 3px 1px rgba(60, 64, 67, 0.15);\n",
              "      fill: #174EA6;\n",
              "    }\n",
              "\n",
              "    .colab-df-buttons div {\n",
              "      margin-bottom: 4px;\n",
              "    }\n",
              "\n",
              "    [theme=dark] .colab-df-convert {\n",
              "      background-color: #3B4455;\n",
              "      fill: #D2E3FC;\n",
              "    }\n",
              "\n",
              "    [theme=dark] .colab-df-convert:hover {\n",
              "      background-color: #434B5C;\n",
              "      box-shadow: 0px 1px 3px 1px rgba(0, 0, 0, 0.15);\n",
              "      filter: drop-shadow(0px 1px 2px rgba(0, 0, 0, 0.3));\n",
              "      fill: #FFFFFF;\n",
              "    }\n",
              "  </style>\n",
              "\n",
              "    <script>\n",
              "      const buttonEl =\n",
              "        document.querySelector('#df-37647a41-ee53-4c89-b1e7-e1a5141e2270 button.colab-df-convert');\n",
              "      buttonEl.style.display =\n",
              "        google.colab.kernel.accessAllowed ? 'block' : 'none';\n",
              "\n",
              "      async function convertToInteractive(key) {\n",
              "        const element = document.querySelector('#df-37647a41-ee53-4c89-b1e7-e1a5141e2270');\n",
              "        const dataTable =\n",
              "          await google.colab.kernel.invokeFunction('convertToInteractive',\n",
              "                                                    [key], {});\n",
              "        if (!dataTable) return;\n",
              "\n",
              "        const docLinkHtml = 'Like what you see? Visit the ' +\n",
              "          '<a target=\"_blank\" href=https://colab.research.google.com/notebooks/data_table.ipynb>data table notebook</a>'\n",
              "          + ' to learn more about interactive tables.';\n",
              "        element.innerHTML = '';\n",
              "        dataTable['output_type'] = 'display_data';\n",
              "        await google.colab.output.renderOutput(dataTable, element);\n",
              "        const docLink = document.createElement('div');\n",
              "        docLink.innerHTML = docLinkHtml;\n",
              "        element.appendChild(docLink);\n",
              "      }\n",
              "    </script>\n",
              "  </div>\n",
              "\n",
              "\n",
              "<div id=\"df-c679142c-855d-463a-9856-b9ee2137f353\">\n",
              "  <button class=\"colab-df-quickchart\" onclick=\"quickchart('df-c679142c-855d-463a-9856-b9ee2137f353')\"\n",
              "            title=\"Suggest charts\"\n",
              "            style=\"display:none;\">\n",
              "\n",
              "<svg xmlns=\"http://www.w3.org/2000/svg\" height=\"24px\"viewBox=\"0 0 24 24\"\n",
              "     width=\"24px\">\n",
              "    <g>\n",
              "        <path d=\"M19 3H5c-1.1 0-2 .9-2 2v14c0 1.1.9 2 2 2h14c1.1 0 2-.9 2-2V5c0-1.1-.9-2-2-2zM9 17H7v-7h2v7zm4 0h-2V7h2v10zm4 0h-2v-4h2v4z\"/>\n",
              "    </g>\n",
              "</svg>\n",
              "  </button>\n",
              "\n",
              "<style>\n",
              "  .colab-df-quickchart {\n",
              "      --bg-color: #E8F0FE;\n",
              "      --fill-color: #1967D2;\n",
              "      --hover-bg-color: #E2EBFA;\n",
              "      --hover-fill-color: #174EA6;\n",
              "      --disabled-fill-color: #AAA;\n",
              "      --disabled-bg-color: #DDD;\n",
              "  }\n",
              "\n",
              "  [theme=dark] .colab-df-quickchart {\n",
              "      --bg-color: #3B4455;\n",
              "      --fill-color: #D2E3FC;\n",
              "      --hover-bg-color: #434B5C;\n",
              "      --hover-fill-color: #FFFFFF;\n",
              "      --disabled-bg-color: #3B4455;\n",
              "      --disabled-fill-color: #666;\n",
              "  }\n",
              "\n",
              "  .colab-df-quickchart {\n",
              "    background-color: var(--bg-color);\n",
              "    border: none;\n",
              "    border-radius: 50%;\n",
              "    cursor: pointer;\n",
              "    display: none;\n",
              "    fill: var(--fill-color);\n",
              "    height: 32px;\n",
              "    padding: 0;\n",
              "    width: 32px;\n",
              "  }\n",
              "\n",
              "  .colab-df-quickchart:hover {\n",
              "    background-color: var(--hover-bg-color);\n",
              "    box-shadow: 0 1px 2px rgba(60, 64, 67, 0.3), 0 1px 3px 1px rgba(60, 64, 67, 0.15);\n",
              "    fill: var(--button-hover-fill-color);\n",
              "  }\n",
              "\n",
              "  .colab-df-quickchart-complete:disabled,\n",
              "  .colab-df-quickchart-complete:disabled:hover {\n",
              "    background-color: var(--disabled-bg-color);\n",
              "    fill: var(--disabled-fill-color);\n",
              "    box-shadow: none;\n",
              "  }\n",
              "\n",
              "  .colab-df-spinner {\n",
              "    border: 2px solid var(--fill-color);\n",
              "    border-color: transparent;\n",
              "    border-bottom-color: var(--fill-color);\n",
              "    animation:\n",
              "      spin 1s steps(1) infinite;\n",
              "  }\n",
              "\n",
              "  @keyframes spin {\n",
              "    0% {\n",
              "      border-color: transparent;\n",
              "      border-bottom-color: var(--fill-color);\n",
              "      border-left-color: var(--fill-color);\n",
              "    }\n",
              "    20% {\n",
              "      border-color: transparent;\n",
              "      border-left-color: var(--fill-color);\n",
              "      border-top-color: var(--fill-color);\n",
              "    }\n",
              "    30% {\n",
              "      border-color: transparent;\n",
              "      border-left-color: var(--fill-color);\n",
              "      border-top-color: var(--fill-color);\n",
              "      border-right-color: var(--fill-color);\n",
              "    }\n",
              "    40% {\n",
              "      border-color: transparent;\n",
              "      border-right-color: var(--fill-color);\n",
              "      border-top-color: var(--fill-color);\n",
              "    }\n",
              "    60% {\n",
              "      border-color: transparent;\n",
              "      border-right-color: var(--fill-color);\n",
              "    }\n",
              "    80% {\n",
              "      border-color: transparent;\n",
              "      border-right-color: var(--fill-color);\n",
              "      border-bottom-color: var(--fill-color);\n",
              "    }\n",
              "    90% {\n",
              "      border-color: transparent;\n",
              "      border-bottom-color: var(--fill-color);\n",
              "    }\n",
              "  }\n",
              "</style>\n",
              "\n",
              "  <script>\n",
              "    async function quickchart(key) {\n",
              "      const quickchartButtonEl =\n",
              "        document.querySelector('#' + key + ' button');\n",
              "      quickchartButtonEl.disabled = true;  // To prevent multiple clicks.\n",
              "      quickchartButtonEl.classList.add('colab-df-spinner');\n",
              "      try {\n",
              "        const charts = await google.colab.kernel.invokeFunction(\n",
              "            'suggestCharts', [key], {});\n",
              "      } catch (error) {\n",
              "        console.error('Error during call to suggestCharts:', error);\n",
              "      }\n",
              "      quickchartButtonEl.classList.remove('colab-df-spinner');\n",
              "      quickchartButtonEl.classList.add('colab-df-quickchart-complete');\n",
              "    }\n",
              "    (() => {\n",
              "      let quickchartButtonEl =\n",
              "        document.querySelector('#df-c679142c-855d-463a-9856-b9ee2137f353 button');\n",
              "      quickchartButtonEl.style.display =\n",
              "        google.colab.kernel.accessAllowed ? 'block' : 'none';\n",
              "    })();\n",
              "  </script>\n",
              "</div>\n",
              "\n",
              "    </div>\n",
              "  </div>\n"
            ],
            "application/vnd.google.colaboratory.intrinsic+json": {
              "type": "dataframe",
              "variable_name": "final_df"
            }
          },
          "metadata": {},
          "execution_count": 48
        }
      ]
    },
    {
      "cell_type": "code",
      "source": [
        "df_dia = df_estacoes[df_estacoes['Data'] == np.datetime64('2016-01-01')]\n",
        "print(\"Registros com temperatura:\", df_dia['temperatura_media'].dropna().shape[0])\n",
        "print(\"Registros com precipitação:\", df_dia['preciptacao'].dropna().shape[0])\n",
        "print(\"Registros com umidade:\", df_dia['umidade_media'].dropna().shape[0])"
      ],
      "metadata": {
        "colab": {
          "base_uri": "https://localhost:8080/"
        },
        "id": "eowwvxCGgxsG",
        "outputId": "b8c05aef-4719-430a-efff-7169e862d4f4"
      },
      "execution_count": null,
      "outputs": [
        {
          "output_type": "stream",
          "name": "stdout",
          "text": [
            "Registros com temperatura: 53\n",
            "Registros com precipitação: 56\n",
            "Registros com umidade: 53\n"
          ]
        }
      ]
    },
    {
      "cell_type": "code",
      "source": [
        "df_dia = df_estacoes[df_estacoes['Data'] == np.datetime64('2018-12-31')]\n",
        "print(\"Registros com temperatura:\", df_dia['temperatura_media'].dropna().shape[0])\n",
        "print(\"Registros com precipitação:\", df_dia['preciptacao'].dropna().shape[0])\n",
        "print(\"Registros com umidade:\", df_dia['umidade_media'].dropna().shape[0])"
      ],
      "metadata": {
        "colab": {
          "base_uri": "https://localhost:8080/"
        },
        "outputId": "466ea2c5-032d-431a-9f6f-b94215e71426",
        "id": "QMIvG9QwylQu"
      },
      "execution_count": null,
      "outputs": [
        {
          "output_type": "stream",
          "name": "stdout",
          "text": [
            "Registros com temperatura: 66\n",
            "Registros com precipitação: 67\n",
            "Registros com umidade: 66\n"
          ]
        }
      ]
    },
    {
      "cell_type": "markdown",
      "source": [
        "### Exportação"
      ],
      "metadata": {
        "id": "DxjiwTp5zKbK"
      }
    },
    {
      "cell_type": "code",
      "source": [
        "final_df.to_csv('resultado_krigagem_2016_2018.csv', index=False)\n",
        "\n",
        "files.download('resultado_krigagem_2016_2018.csv')"
      ],
      "metadata": {
        "colab": {
          "base_uri": "https://localhost:8080/",
          "height": 17
        },
        "id": "U6iaKvtWzMeV",
        "outputId": "5637e4ac-7af3-46a1-99d1-369ca9dc4b5b"
      },
      "execution_count": null,
      "outputs": [
        {
          "output_type": "display_data",
          "data": {
            "text/plain": [
              "<IPython.core.display.Javascript object>"
            ],
            "application/javascript": [
              "\n",
              "    async function download(id, filename, size) {\n",
              "      if (!google.colab.kernel.accessAllowed) {\n",
              "        return;\n",
              "      }\n",
              "      const div = document.createElement('div');\n",
              "      const label = document.createElement('label');\n",
              "      label.textContent = `Downloading \"${filename}\": `;\n",
              "      div.appendChild(label);\n",
              "      const progress = document.createElement('progress');\n",
              "      progress.max = size;\n",
              "      div.appendChild(progress);\n",
              "      document.body.appendChild(div);\n",
              "\n",
              "      const buffers = [];\n",
              "      let downloaded = 0;\n",
              "\n",
              "      const channel = await google.colab.kernel.comms.open(id);\n",
              "      // Send a message to notify the kernel that we're ready.\n",
              "      channel.send({})\n",
              "\n",
              "      for await (const message of channel.messages) {\n",
              "        // Send a message to notify the kernel that we're ready.\n",
              "        channel.send({})\n",
              "        if (message.buffers) {\n",
              "          for (const buffer of message.buffers) {\n",
              "            buffers.push(buffer);\n",
              "            downloaded += buffer.byteLength;\n",
              "            progress.value = downloaded;\n",
              "          }\n",
              "        }\n",
              "      }\n",
              "      const blob = new Blob(buffers, {type: 'application/binary'});\n",
              "      const a = document.createElement('a');\n",
              "      a.href = window.URL.createObjectURL(blob);\n",
              "      a.download = filename;\n",
              "      div.appendChild(a);\n",
              "      a.click();\n",
              "      div.remove();\n",
              "    }\n",
              "  "
            ]
          },
          "metadata": {}
        },
        {
          "output_type": "display_data",
          "data": {
            "text/plain": [
              "<IPython.core.display.Javascript object>"
            ],
            "application/javascript": [
              "download(\"download_691f555f-a402-43b3-aabd-685d4efeb149\", \"resultado_krigagem_2016_2018.csv\", 70251842)"
            ]
          },
          "metadata": {}
        }
      ]
    }
  ],
  "metadata": {
    "colab": {
      "provenance": []
    },
    "kernelspec": {
      "display_name": "Python 3",
      "name": "python3"
    },
    "language_info": {
      "name": "python"
    }
  },
  "nbformat": 4,
  "nbformat_minor": 0
}